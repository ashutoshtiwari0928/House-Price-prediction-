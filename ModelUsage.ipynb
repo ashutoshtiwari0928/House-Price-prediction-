{
 "cells": [
  {
   "cell_type": "code",
   "execution_count": 14,
   "id": "403a11a8",
   "metadata": {},
   "outputs": [
    {
     "data": {
      "text/plain": [
       "array([21.783])"
      ]
     },
     "execution_count": 14,
     "metadata": {},
     "output_type": "execute_result"
    }
   ],
   "source": [
    "from joblib import dump,load\n",
    "import numpy as np\n",
    "model=load('Dragon.joblib')\n",
    "features=np.array([[-0.42152521, -0.48685178, -0.24673925, -0.27144836,  0.2311586 ,\n",
    "       -4.4, -1.42946756, -0.4510327 , -0.42117544, -0.12039257,\n",
    "        0.3268577 ,  0.41580739,  0.64788652]])\n",
    "model.predict(features)"
   ]
  },
  {
   "cell_type": "code",
   "execution_count": null,
   "id": "1fb033e9",
   "metadata": {},
   "outputs": [],
   "source": []
  }
 ],
 "metadata": {
  "kernelspec": {
   "display_name": "Python 3 (ipykernel)",
   "language": "python",
   "name": "python3"
  },
  "language_info": {
   "codemirror_mode": {
    "name": "ipython",
    "version": 3
   },
   "file_extension": ".py",
   "mimetype": "text/x-python",
   "name": "python",
   "nbconvert_exporter": "python",
   "pygments_lexer": "ipython3",
   "version": "3.9.7"
  }
 },
 "nbformat": 4,
 "nbformat_minor": 5
}
